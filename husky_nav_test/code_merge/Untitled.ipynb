{
 "cells": [
  {
   "cell_type": "code",
   "execution_count": 40,
   "metadata": {},
   "outputs": [],
   "source": [
    "#!/usr/bin/env python2\n",
    "# encoding: utf-8\n",
    "\n",
    "import os\n",
    "import argparse\n",
    "from tf.transformations import euler_from_quaternion, quaternion_from_euler\n",
    "import pandas as pd\n",
    "import matplotlib.pylab as plt\n",
    "import re\n",
    "import rosbag"
   ]
  },
  {
   "cell_type": "markdown",
   "metadata": {},
   "source": [
    "### 初始化参数"
   ]
  },
  {
   "cell_type": "code",
   "execution_count": 63,
   "metadata": {},
   "outputs": [],
   "source": [
    "  class Foo:\n",
    "        \n",
    "    def __init__(self):\n",
    "        self.husky_topic = '/vrpn_client_node/husky/pose'\n",
    "        self.mavebase_topic = '/move_base/result'\n",
    "        self.rosbag_file_name = 'husky_nav_exp_2018-12-18-15-18-02.bag'\n",
    "    \n",
    "    def detail(self):\n",
    "        print(self.husky_topic)\n",
    "        print(self.mavebase_topic)\n",
    "        print(self.rosbag_file_name)"
   ]
  },
  {
   "cell_type": "code",
   "execution_count": 62,
   "metadata": {},
   "outputs": [
    {
     "name": "stdout",
     "output_type": "stream",
     "text": [
      "/vrpn_client_node/husky/pose\n",
      "/move_base/result\n",
      "husky_nav_exp_2018-12-18-15-18-02.bag\n",
      "Extract pose from bag husky_nav_exp_2018-12-18-15-18-02.bag in topic /vrpn_client_node/husky/pose\n",
      "Saving to file /home/dzsb078/Desktop/201812121312_husky_nav/code_merge/husky_poses.csv\n",
      "wrote 239583 husky pose messages to the file: /home/dzsb078/Desktop/201812121312_husky_nav/code_merge/husky_poses.csv\n"
     ]
    }
   ],
   "source": [
    "foo = Foo()\n",
    "foo.detail()\n",
    "%run bag_to_pose_vrpn_angle.py husky_nav_exp_2018-12-18-15-18-02.bag /vrpn_client_node/husky/pose"
   ]
  },
  {
   "cell_type": "code",
   "execution_count": null,
   "metadata": {},
   "outputs": [],
   "source": [
    "self.husky_topic"
   ]
  },
  {
   "cell_type": "markdown",
   "metadata": {},
   "source": [
    "### bag_to_pose_vrpn_angle.py"
   ]
  },
  {
   "cell_type": "code",
   "execution_count": null,
   "metadata": {},
   "outputs": [],
   "source": [
    "def bag_to_pose_vrpn_angle(topic):\n",
    "    \n",
    "    roll = pitch = yaw = 0.0\n",
    "\n",
    "    def extract(bagfile, pose_topic, msg_type, out_filename):\n",
    "        n = 0\n",
    "        f = open(out_filename, 'w')\n",
    "        f.write('timestamp,x,y,z,roll,pitch,yaw\\n')\n",
    "        with rosbag.Bag(bagfile, 'r') as bag:\n",
    "            for (topic, msg, ts) in bag.read_messages(topics=str(pose_topic)):\n",
    "                if msg_type == \"geometry_msgs/PoseStamped\":\n",
    "                    orientation_list = [msg.pose.orientation.x, msg.pose.orientation.y, msg.pose.orientation.z, msg.pose.orientation.w]\n",
    "                    (roll, pitch, yaw) = euler_from_quaternion (orientation_list)\n",
    "                    f.write('%.12f, %.12f, %.12f, %.12f, %.12f, %.12f, %.12f\\n' %\n",
    "                            (msg.header.stamp.to_sec(),\n",
    "                             msg.pose.position.x, \n",
    "                             msg.pose.position.y,\n",
    "                             msg.pose.position.z,\n",
    "                             roll,\n",
    "                             pitch,\n",
    "                             yaw\n",
    "                             )\n",
    "                            )\n",
    "                else:\n",
    "                    assert False, \"Unknown message type\"\n",
    "                n += 1\n",
    "        print('wrote ' + str(n) + ' husky pose messages to the file: ' + out_filename)\n",
    "\n",
    "\n",
    "    if __name__ == '__main__':\n",
    "        parser = argparse.ArgumentParser(description='''\n",
    "        Extracts IMU messages from bagfile.\n",
    "        ''')\n",
    "        parser.add_argument('bag', help='Bagfile')\n",
    "        parser.add_argument('topic', help='Topic')\n",
    "        parser.add_argument('--msg_type', default='geometry_msgs/PoseStamped',\n",
    "                            help='message type')\n",
    "        parser.add_argument('--output', default='husky_poses.csv',\n",
    "                            help='output filename')\n",
    "        args = parser.parse_args()\n",
    "\n",
    "        out_dir = os.path.dirname(os.path.abspath(args.bag))\n",
    "        out_fn = os.path.join(out_dir, args.output)\n",
    "\n",
    "        print('Extract pose from bag '+args.bag+' in topic ' + args.topic)\n",
    "        print('Saving to file '+out_fn)\n",
    "        extract(args.bag, args.topic, args.msg_type, out_fn)"
   ]
  },
  {
   "cell_type": "markdown",
   "metadata": {},
   "source": [
    "### change_to_ang.py"
   ]
  },
  {
   "cell_type": "code",
   "execution_count": null,
   "metadata": {},
   "outputs": [],
   "source": [
    "def change_to_ang():\n",
    "\n",
    "    filename = 'waypoint.txt'\n",
    "    outfile = 'waypoint.csv'\n",
    "\n",
    "    f = open(outfile, 'w')\n",
    "\n",
    "    csv_data=pd.read_csv(open(filename))\n",
    "    n = 0\n",
    "    f.write('x,y,z,yaw,roll,pitch\\n')\n",
    "    for i in range(len(csv_data.x)):\n",
    "        tempdata=[csv_data.q1[i],csv_data.q2[i],csv_data.q3[i],csv_data.q4[i]]\n",
    "        (roll, pitch, yaw) = euler_from_quaternion (tempdata)\n",
    "        f.write('%.12f, %.12f, %.12f, %.12f, %.12f, %.12f\\n' %\n",
    "                            (\n",
    "                             csv_data.x[i],\n",
    "                             csv_data.y[i],\n",
    "                             csv_data.z[i],\n",
    "                             yaw,\n",
    "                             roll,\n",
    "                             pitch\n",
    "                             )\n",
    "                )\n",
    "        n += 1\n",
    "    print('change ' + str(n) + ' Quaternions to angle: ' + outfile)\n",
    "\n",
    "    f.close()"
   ]
  },
  {
   "cell_type": "markdown",
   "metadata": {},
   "source": [
    "### date_caculate.py "
   ]
  },
  {
   "cell_type": "code",
   "execution_count": null,
   "metadata": {},
   "outputs": [],
   "source": [
    "def date_caculate():\n",
    "\n",
    "    filename = 'echo_mb.txt'\n",
    "    outfile = 'movebase_time.csv'\n",
    "\n",
    "    with open(filename, 'r') as f:\n",
    "        rows = f.readlines()\n",
    "\n",
    "    result = [(rows[3+i],rows[4+i],rows[12+i]) for i in range(0,len(rows),17)]   \n",
    "\n",
    "    def find_num(x):\n",
    "        return re.findall('[\\d.]+',x)[0]  \n",
    "    data = [list(map(find_num,(sec,nsec,status))) for sec,nsec,status in result]\n",
    "    # print(data)\n",
    "\n",
    "    data = [(sec + '.' + nsec,status) for sec,nsec,status in data]\n",
    "    df = pd.DataFrame(data, columns = ['time','status'])\n",
    "\n",
    "    df.time = df.time.apply(float)\n",
    "    df.status = df.status.apply(int)\n",
    "\n",
    "    df.to_csv(outfile, index=False)"
   ]
  },
  {
   "cell_type": "markdown",
   "metadata": {},
   "source": [
    "### get_erro.py"
   ]
  },
  {
   "cell_type": "code",
   "execution_count": null,
   "metadata": {},
   "outputs": [],
   "source": [
    "def get_erro():\n",
    "        \n",
    "    filename = 'movebase_time.csv'\n",
    "    filename_husky = 'husky_poses.csv'\n",
    "    point_file = 'waypoint.csv'\n",
    "    outfile = 'date_result.csv'\n",
    "\n",
    "    df = pd.read_csv(filename)\n",
    "    point = pd.read_csv(point_file)\n",
    "    husky = pd.read_csv(filename_husky)\n",
    "\n",
    "    df = df[df.status == 3].reset_index(drop = True)   #消除状态标志不是3的数据\n",
    "\n",
    "    #数据的筛选，取时间戳前后0.1秒的数据进行求和平均\n",
    "    data = []\n",
    "    for i in range(len(df.time)):\n",
    "        pose_temp = husky[(husky.timestamp > (df.time[i] - 0.1)) & (husky.timestamp < (df.time[i] + 0.1))]\n",
    "        entry = pose_temp.mean().values\n",
    "        columns_index = pose_temp.mean().index\n",
    "        data.append(entry)\n",
    "\n",
    "    df_1 = pd.DataFrame(data, columns = columns_index) \n",
    "\n",
    "    #对获取的数据进行筛选，去到达目标点的第一个时刻的数据\n",
    "    temp_x = df_1.x[0]\n",
    "    temp_y = df_1.y[0]\n",
    "    pose = []\n",
    "    pose.append([df_1.timestamp[0], df_1.x[0], df_1.y[0], df_1.z[0], df_1.yaw[0], df_1.roll[0], df_1.pitch[0]])\n",
    "    for i in range(len(df_1.x) - 1):\n",
    "        if ((df_1.x[i] - temp_x)**2 + (df_1.y[i] - temp_y)**2)**0.5 < 1:\n",
    "            continue\n",
    "        else:\n",
    "            temp_x = df_1.x[i]\n",
    "            temp_y = df_1.y[i]\n",
    "            pose.append([df_1.timestamp[i], df_1.x[i], df_1.y[i], df_1.z[i], df_1.yaw[i], df_1.roll[i], df_1.pitch[i]])\n",
    "    pose\n",
    "    list_1 = ['timestamp', 'x','y','z','yaw','roll','pitch']\n",
    "    df_1 = pd.DataFrame(pose, columns = list_1)  #获取数据\n",
    "    df_2 = df_1.drop(['timestamp'], axis = 1)  #消除时间戳的信息，与waypoint.csv文件格式一致，用于对比\n",
    "\n",
    "    times = len(df_2)//len(point)\n",
    "    re = len(df_2)%len(point)\n",
    "\n",
    "    point_sum = point\n",
    "    for i in range(times - 1):\n",
    "        point_sum = point_sum.append(point).reset_index().drop(['index'], axis = 1)\n",
    "    point_sum = point_sum.append(point[0:re]).reset_index().drop(['index'], axis = 1)\n",
    "\n",
    "    erro = df_2 - point_sum\n",
    "    erro['timestamp'] = df_1.timestamp\n",
    "    erro = erro.reindex(columns=list_1)\n",
    "    test = df_1.diff(1)\n",
    "\n",
    "    erro['time'] = test.timestamp\n",
    "    erro['dist'] = (test.x**2 + test.y**2)**0.5\n",
    "    erro['vel'] = erro['dist'] / erro['time']\n",
    "    erro.to_csv(outfile, index = False)"
   ]
  },
  {
   "cell_type": "markdown",
   "metadata": {},
   "source": [
    "### get_picture.py"
   ]
  },
  {
   "cell_type": "code",
   "execution_count": null,
   "metadata": {},
   "outputs": [],
   "source": [
    " def get_picture():\n",
    "        \n",
    "    filename = 'date_result.csv'\n",
    "    outfile = 'out_plot.csv'\n",
    "\n",
    "\n",
    "    df = pd.read_csv(filename)\n",
    "\n",
    "    df['sq_x_y'] = (df.x**2 + df.y**2)**0.5\n",
    "    df_1 = df.shift(1)  #数据向后移动一行\n",
    "\n",
    "    data = {'point':[1,2,3,4,5,6,7,8,9]}  #创建新的dataframe\n",
    "    df_erro = pd.DataFrame(data)\n",
    "\n",
    "    df_erro['loop_1'] = df_1.sq_x_y[0:9].reset_index(drop = True)\n",
    "    df_erro['loop_2'] = df_1.sq_x_y[9:18].reset_index(drop = True)\n",
    "    df_erro['loop_3'] = df_1.sq_x_y[18:27].reset_index(drop = True)\n",
    "    df_erro['loop_4'] = df_1.sq_x_y[27:36].reset_index(drop = True)\n",
    "    df_erro['loop_5'] = df_1.sq_x_y[36:].reset_index(drop = True)\n",
    "\n",
    "    df_erro['loop_1_yaw'] = df_1.yaw[0:9].reset_index(drop = True)\n",
    "    df_erro['loop_2_yaw'] = df_1.yaw[9:18].reset_index(drop = True)\n",
    "    df_erro['loop_3_yaw'] = df_1.yaw[18:27].reset_index(drop = True)\n",
    "    df_erro['loop_4_yaw'] = df_1.yaw[27:36].reset_index(drop = True)\n",
    "    df_erro['loop_5_yaw'] = df_1.yaw[36:].reset_index(drop = True)\n",
    "\n",
    "    df_erro.to_csv(outfile, index = False)\n",
    "\n",
    "    df_erro = abs(df_erro) #取角度误差的绝对值\n",
    "\n",
    "    #画散点图，点的误差\n",
    "    plt.plot(df_erro.point, df_erro.loop_1, '.')\n",
    "    plt.plot(df_erro.point, df_erro.loop_2, '*')\n",
    "    plt.plot(df_erro.point, df_erro.loop_3, '<')\n",
    "    plt.plot(df_erro.point, df_erro.loop_4, '^')\n",
    "    plt.plot(df_erro.point, df_erro.loop_5, '>')\n",
    "\n",
    "    plt.xlabel('points')\n",
    "    plt.ylabel('erro/m')\n",
    "    plt.legend(loc = 'best')\n",
    "    plt.title('points erro for 5 loops')\n",
    "    plt.savefig('./point.jpg', dpi = 900, bbox_inches = 'tight')\n",
    "    plt.show()\n",
    "\n",
    "    #画散点图，角度的误差\n",
    "    plt.plot(df_erro.point, df_erro.loop_1_yaw, '.')\n",
    "    plt.plot(df_erro.point, df_erro.loop_2_yaw, '*')\n",
    "    plt.plot(df_erro.point, df_erro.loop_3_yaw, '>')\n",
    "    plt.plot(df_erro.point, df_erro.loop_4_yaw, '^')\n",
    "    plt.plot(df_erro.point, df_erro.loop_5_yaw, '<')\n",
    "\n",
    "    plt.xlabel('points')\n",
    "    plt.ylabel('erro/rad')\n",
    "    plt.legend(loc = 'best')\n",
    "    plt.title('angle erro for 5 loops')\n",
    "    plt.savefig('./yaw.jpg', dpi = 900, bbox_inches = 'tight')\n",
    "    plt.show()"
   ]
  }
 ],
 "metadata": {
  "kernelspec": {
   "display_name": "Python 2",
   "language": "python",
   "name": "python2"
  },
  "language_info": {
   "codemirror_mode": {
    "name": "ipython",
    "version": 2
   },
   "file_extension": ".py",
   "mimetype": "text/x-python",
   "name": "python",
   "nbconvert_exporter": "python",
   "pygments_lexer": "ipython2",
   "version": "2.7.15"
  }
 },
 "nbformat": 4,
 "nbformat_minor": 2
}
